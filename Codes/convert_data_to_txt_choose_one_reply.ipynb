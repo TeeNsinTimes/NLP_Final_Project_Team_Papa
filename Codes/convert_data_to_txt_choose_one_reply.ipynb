{
 "metadata": {
  "language_info": {
   "codemirror_mode": {
    "name": "ipython",
    "version": 3
   },
   "file_extension": ".py",
   "mimetype": "text/x-python",
   "name": "python",
   "nbconvert_exporter": "python",
   "pygments_lexer": "ipython3",
   "version": "3.8.3"
  },
  "orig_nbformat": 2,
  "kernelspec": {
   "name": "python383jvsc74a57bd0b3ba2566441a7c06988d0923437866b63cedc61552a5af99d1f4fb67d367b25f",
   "display_name": "Python 3.8.3 64-bit ('base': conda)"
  },
  "metadata": {
   "interpreter": {
    "hash": "2e7551559daae743fd5a6b2b4bfe97d8cf6c753cb1c0fa8928f6e7ddcebdb42f"
   }
  }
 },
 "nbformat": 4,
 "nbformat_minor": 2,
 "cells": [
  {
   "cell_type": "code",
   "execution_count": 1,
   "metadata": {
    "tags": []
   },
   "outputs": [],
   "source": [
    "import json\n",
    "import re\n",
    "import random\n",
    "\n",
    "# Opening JSON file\n",
    "f = open('public_data/train.json',\"r\", encoding=\"utf-8\")\n",
    "# returns JSON object as \n",
    "# a dictionary\n",
    "df = json.load(f)\n",
    "  \n",
    "data_dict = [{}, {}]\n",
    "for i in range(len(df)):\n",
    "    x = df[i]\n",
    "    x['text'] = re.sub(r\"[\\r\\n\\t]\", \"\", x['text'])\n",
    "    x['text'] = re.sub(r\"https.*\", \"\", x['text'])\n",
    "    x['reply'] = re.sub(r\"[\\r\\n\\t]\", \"\", x['reply'])\n",
    "    x['reply'] = re.sub(r\"https.*\", \"\", x['reply'])\n",
    "    \n",
    "    if x['label'] == \"fake\":\n",
    "        if x['text'] not in data_dict[0]:\n",
    "            data_dict[0][x['text']] = [x['reply']]\n",
    "        else:\n",
    "            data_dict[0][x['text']].append(x['reply'])\n",
    "    else:\n",
    "        if x['text'] not in data_dict[1]:\n",
    "            data_dict[1][x['text']] = [x['reply']]\n",
    "        else:\n",
    "            data_dict[1][x['text']].append(x['reply'])\n",
    "            \n",
    "data = [[], []]\n",
    "for i in range(2):\n",
    "    for text, replies in data_dict[i].items():\n",
    "        data[i].append(text)\n",
    "        random.shuffle(replies)\n",
    "        data[i][-1] += replies[0] + \"\\n\"\n",
    "        \n",
    "# Closing file\n",
    "f.close()"
   ]
  },
  {
   "cell_type": "code",
   "execution_count": 2,
   "metadata": {},
   "outputs": [
    {
     "output_type": "stream",
     "name": "stdout",
     "text": [
      "3218\n23134\n"
     ]
    }
   ],
   "source": [
    "print(len(data[0]))\n",
    "print(len(data[1]))"
   ]
  },
  {
   "cell_type": "code",
   "execution_count": 3,
   "metadata": {},
   "outputs": [],
   "source": [
    "import random\n",
    "random.shuffle(data[0])\n",
    "random.shuffle(data[1])"
   ]
  },
  {
   "cell_type": "code",
   "execution_count": 4,
   "metadata": {
    "tags": []
   },
   "outputs": [],
   "source": [
    "with open(\"neg.txt\", \"w\", encoding=\"utf-8\") as f:\n",
    "  for x in data[0]:\n",
    "    f.writelines(x)\n",
    "\n",
    "with open(\"pos.txt\", \"w\", encoding=\"utf-8\") as f:\n",
    "  for x in data[1]:\n",
    "    f.writelines(x)"
   ]
  },
  {
   "cell_type": "code",
   "execution_count": 5,
   "metadata": {
    "tags": []
   },
   "outputs": [],
   "source": [
    "# Opening JSON file\n",
    "f = open('public_data/dev.json',\"r\", encoding=\"utf-8\")\n",
    "# returns JSON object as \n",
    "# a dictionary\n",
    "df = json.load(f)\n",
    "  \n",
    "# Iterating through the json\n",
    "# list\n",
    "data = []\n",
    "\n",
    "for i in range(len(df)):\n",
    "    x = df[i]\n",
    "    \n",
    "    x['text'] = re.sub(r\"[\\r\\n\\t]\", \"\", x['text'])\n",
    "    x['text'] = re.sub(r\"https.*\", \"\", x['text'])\n",
    "    x['reply'] = re.sub(r\"[\\r\\n\\t]\", \"\", x['reply'])\n",
    "    x['reply'] = re.sub(r\"https.*\", \"\", x['reply'])\n",
    "    \n",
    "    data.append(x['text']+x['reply']+'\\n')\n",
    "\n",
    "# Closing file\n",
    "f.close()"
   ]
  },
  {
   "cell_type": "code",
   "execution_count": 6,
   "metadata": {},
   "outputs": [
    {
     "output_type": "stream",
     "name": "stdout",
     "text": [
      "40487\n"
     ]
    }
   ],
   "source": [
    "print(len(data))"
   ]
  },
  {
   "cell_type": "code",
   "execution_count": 7,
   "metadata": {},
   "outputs": [],
   "source": [
    "with open(\"dev.txt\", \"w\", encoding=\"utf-8\") as f:\n",
    "  for x in data:\n",
    "    f.writelines(x)"
   ]
  },
  {
   "cell_type": "code",
   "execution_count": 8,
   "metadata": {},
   "outputs": [],
   "source": [
    "# Opening JSON file\n",
    "f = open('public_data/eval.json',\"r\", encoding=\"utf-8\")\n",
    "# returns JSON object as \n",
    "# a dictionary\n",
    "df = json.load(f)\n",
    "  \n",
    "# Iterating through the json\n",
    "# list\n",
    "data = []\n",
    "\n",
    "for i in range(len(df)):\n",
    "    x = df[i]\n",
    "    \n",
    "    x['text'] = re.sub(r\"[\\r\\n\\t]\", \"\", x['text'])\n",
    "    x['text'] = re.sub(r\"https.*\", \"\", x['text'])\n",
    "    x['reply'] = re.sub(r\"[\\r\\n\\t]\", \"\", x['reply'])\n",
    "    x['reply'] = re.sub(r\"https.*\", \"\", x['reply'])\n",
    "    \n",
    "    data.append(x['text']+x['reply']+'\\n')\n",
    "\n",
    "# Closing file\n",
    "f.close()"
   ]
  },
  {
   "cell_type": "code",
   "execution_count": 9,
   "metadata": {},
   "outputs": [
    {
     "output_type": "stream",
     "name": "stdout",
     "text": [
      "88664\n"
     ]
    }
   ],
   "source": [
    "print(len(data))"
   ]
  },
  {
   "cell_type": "code",
   "execution_count": 10,
   "metadata": {},
   "outputs": [],
   "source": [
    "with open(\"eval.txt\", \"w\", encoding=\"utf-8\") as f:\n",
    "  for x in data:\n",
    "    f.writelines(x)"
   ]
  },
  {
   "cell_type": "code",
   "execution_count": null,
   "metadata": {},
   "outputs": [],
   "source": []
  }
 ]
}