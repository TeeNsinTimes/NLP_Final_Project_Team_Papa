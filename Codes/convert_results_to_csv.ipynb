{
 "metadata": {
  "language_info": {
   "codemirror_mode": {
    "name": "ipython",
    "version": 3
   },
   "file_extension": ".py",
   "mimetype": "text/x-python",
   "name": "python",
   "nbconvert_exporter": "python",
   "pygments_lexer": "ipython3",
   "version": "3.8.3"
  },
  "orig_nbformat": 2,
  "kernelspec": {
   "name": "python3",
   "display_name": "Python 3.8.3 64-bit ('base': conda)"
  },
  "interpreter": {
   "hash": "b3ba2566441a7c06988d0923437866b63cedc61552a5af99d1f4fb67d367b25f"
  }
 },
 "nbformat": 4,
 "nbformat_minor": 2,
 "cells": [
  {
   "cell_type": "code",
   "execution_count": 1,
   "metadata": {},
   "outputs": [],
   "source": [
    "import json\n",
    "# Opening JSON file\n",
    "f = open('public_data/eval.json',\"r\", encoding=\"utf-8\")\n",
    "# returns JSON object as \n",
    "# a dictionary\n",
    "df = json.load(f)\n",
    "\n",
    "idx_contextidx = [0, 0] * len(df)\n",
    "\n",
    "for i in range(len(df)):\n",
    "    x = df[i]\n",
    "    idx_contextidx[i] = [x['idx'], x['context_idx']]\n",
    "\n",
    "# Closing file\n",
    "f.close()"
   ]
  },
  {
   "cell_type": "code",
   "execution_count": 2,
   "metadata": {
    "tags": []
   },
   "outputs": [],
   "source": [
    "import csv\n",
    "\n",
    "results=[\"\"]*len(df)\n",
    "\n",
    "with open(\"results.txt\", \"r\", encoding=\"utf-8\") as f:\n",
    "    cnt = 0\n",
    "    for lines in f:\n",
    "        #print(lines[:4], end = \"\")\n",
    "        if len(lines) < 4:\n",
    "            continue\n",
    "        results[cnt]=lines[:4]\n",
    "        cnt+=1"
   ]
  },
  {
   "cell_type": "code",
   "execution_count": 3,
   "metadata": {},
   "outputs": [],
   "source": [
    "# 開啟輸出的 CSV 檔案\n",
    "with open('eval.csv', 'w', newline='') as csvfile:\n",
    "  # 建立 CSV 檔寫入器\n",
    "  writer = csv.writer(csvfile)\n",
    "\n",
    "  # 寫入一列資料\n",
    "  writer.writerow(['idx', 'context_idx', 'label'])\n",
    "\n",
    "  for i in range(len(df)):\n",
    "      writer.writerow([idx_contextidx[i][0], idx_contextidx[i][1], results[i]])"
   ]
  },
  {
   "cell_type": "code",
   "execution_count": null,
   "metadata": {},
   "outputs": [],
   "source": []
  }
 ]
}